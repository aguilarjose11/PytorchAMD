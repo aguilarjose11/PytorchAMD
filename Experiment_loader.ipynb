{
 "cells": [
  {
   "cell_type": "code",
   "execution_count": 1,
   "id": "01ff53a9",
   "metadata": {},
   "outputs": [],
   "source": [
    "import torch\n",
    "import pickle\n",
    "import numpy as np\n",
    "import pandas as pd"
   ]
  },
  {
   "cell_type": "code",
   "execution_count": 2,
   "id": "36d37b31",
   "metadata": {},
   "outputs": [],
   "source": [
    "# Load results\n",
    "with open(\"experiment_0_PAM_heads_8_layers_3_g-embedding_p_lr_0.0001_epochs_2_batch-len_512_problem_TSP_nodes_20_dim_2.pkl\", 'rb') as jar:\n",
    "    data = pickle.load(jar)"
   ]
  },
  {
   "cell_type": "code",
   "execution_count": 3,
   "id": "bb46713a",
   "metadata": {},
   "outputs": [
    {
     "data": {
      "text/plain": [
       "{'rewards':       Train\n",
       " 0 -9.762150\n",
       " 1 -9.309157,\n",
       " 'args': Namespace(N=3, asynchronous=False, batch_size=512, c=10.0, d_ff=512, d_k=64, d_m=128, d_v=64, device='cuda', dir='.', dropout=0.0, environments=1024, epochs=2, exp_label='0', file='PAM', graph_emb='p', graph_size=20, h=8, head_split=True, lr=0.0001, new_environments=True, problem='TSP', problem_dimension=2, verbose=1),\n",
       " 'runtime': -65.52629468899977}"
      ]
     },
     "execution_count": 3,
     "metadata": {},
     "output_type": "execute_result"
    }
   ],
   "source": [
    "data"
   ]
  },
  {
   "cell_type": "code",
   "execution_count": null,
   "id": "dc4abdf5",
   "metadata": {},
   "outputs": [],
   "source": []
  },
  {
   "cell_type": "code",
   "execution_count": 4,
   "id": "2af6abf4",
   "metadata": {},
   "outputs": [],
   "source": [
    "# Load Pytorch model\n",
    "model = torch.load(\"experiment_0_PAM_heads_8_layers_3_g-embedding_p_lr_0.0001_epochs_2_batch-len_512_problem_TSP_nodes_20_dim_2.pt\")"
   ]
  },
  {
   "cell_type": "code",
   "execution_count": 6,
   "id": "6bce21c7",
   "metadata": {},
   "outputs": [
    {
     "data": {
      "text/plain": [
       "PersistentAttentionModel(\n",
       "  (encoder): PersistentTransformerEncoder(\n",
       "    (embeder): Linear(in_features=2, out_features=128, bias=True)\n",
       "    (encoders): ModuleList(\n",
       "      (0): PersistenceEncoderLayer(\n",
       "        (mha): MultiHeadAttention(\n",
       "          (qkv_projection): Linear(in_features=128, out_features=192, bias=True)\n",
       "          (output): Linear(in_features=64, out_features=128, bias=True)\n",
       "          (softmax): Softmax(dim=-1)\n",
       "          (dropout_q): Dropout(p=0.0, inplace=False)\n",
       "          (dropout_k): Dropout(p=0.0, inplace=False)\n",
       "          (dropout_v): Dropout(p=0.0, inplace=False)\n",
       "          (dropout_o): Dropout(p=0.0, inplace=False)\n",
       "        )\n",
       "        (norm1): LayerNorm((128,), eps=1e-05, elementwise_affine=True)\n",
       "        (ff): Sequential(\n",
       "          (0): Linear(in_features=128, out_features=512, bias=True)\n",
       "          (1): ReLU()\n",
       "          (2): Dropout(p=0.0, inplace=False)\n",
       "          (3): Linear(in_features=512, out_features=128, bias=True)\n",
       "          (4): Dropout(p=0.0, inplace=False)\n",
       "        )\n",
       "        (norm2): LayerNorm((128,), eps=1e-05, elementwise_affine=True)\n",
       "      )\n",
       "      (1): PersistenceEncoderLayer(\n",
       "        (mha): MultiHeadAttention(\n",
       "          (qkv_projection): Linear(in_features=128, out_features=192, bias=True)\n",
       "          (output): Linear(in_features=64, out_features=128, bias=True)\n",
       "          (softmax): Softmax(dim=-1)\n",
       "          (dropout_q): Dropout(p=0.0, inplace=False)\n",
       "          (dropout_k): Dropout(p=0.0, inplace=False)\n",
       "          (dropout_v): Dropout(p=0.0, inplace=False)\n",
       "          (dropout_o): Dropout(p=0.0, inplace=False)\n",
       "        )\n",
       "        (norm1): LayerNorm((128,), eps=1e-05, elementwise_affine=True)\n",
       "        (ff): Sequential(\n",
       "          (0): Linear(in_features=128, out_features=512, bias=True)\n",
       "          (1): ReLU()\n",
       "          (2): Dropout(p=0.0, inplace=False)\n",
       "          (3): Linear(in_features=512, out_features=128, bias=True)\n",
       "          (4): Dropout(p=0.0, inplace=False)\n",
       "        )\n",
       "        (norm2): LayerNorm((128,), eps=1e-05, elementwise_affine=True)\n",
       "      )\n",
       "      (2): PersistenceEncoderLayer(\n",
       "        (mha): MultiHeadAttention(\n",
       "          (qkv_projection): Linear(in_features=128, out_features=192, bias=True)\n",
       "          (output): Linear(in_features=64, out_features=128, bias=True)\n",
       "          (softmax): Softmax(dim=-1)\n",
       "          (dropout_q): Dropout(p=0.0, inplace=False)\n",
       "          (dropout_k): Dropout(p=0.0, inplace=False)\n",
       "          (dropout_v): Dropout(p=0.0, inplace=False)\n",
       "          (dropout_o): Dropout(p=0.0, inplace=False)\n",
       "        )\n",
       "        (norm1): LayerNorm((128,), eps=1e-05, elementwise_affine=True)\n",
       "        (ff): Sequential(\n",
       "          (0): Linear(in_features=128, out_features=512, bias=True)\n",
       "          (1): ReLU()\n",
       "          (2): Dropout(p=0.0, inplace=False)\n",
       "          (3): Linear(in_features=512, out_features=128, bias=True)\n",
       "          (4): Dropout(p=0.0, inplace=False)\n",
       "        )\n",
       "        (norm2): LayerNorm((128,), eps=1e-05, elementwise_affine=True)\n",
       "      )\n",
       "    )\n",
       "  )\n",
       "  (decoder): PersistentDecoderLayer(\n",
       "    (emb_mha): MultiHeadAttention(\n",
       "      (q_projection): Linear(in_features=384, out_features=64, bias=True)\n",
       "      (kv_projection): Linear(in_features=128, out_features=128, bias=True)\n",
       "      (output): Linear(in_features=64, out_features=384, bias=True)\n",
       "      (softmax): Softmax(dim=-1)\n",
       "      (dropout_q): Dropout(p=0.0, inplace=False)\n",
       "      (dropout_k): Dropout(p=0.0, inplace=False)\n",
       "      (dropout_v): Dropout(p=0.0, inplace=False)\n",
       "      (dropout_o): Dropout(p=0.0, inplace=False)\n",
       "    )\n",
       "    (pda): PDAttention(\n",
       "      (q_projection): Linear(in_features=384, out_features=64, bias=True)\n",
       "      (k_projection): Linear(in_features=128, out_features=64, bias=True)\n",
       "      (dropout_q): Dropout(p=0.0, inplace=False)\n",
       "      (dropout_k): Dropout(p=0.0, inplace=False)\n",
       "      (tan_h): Tanh()\n",
       "      (softmax): Softmax(dim=-1)\n",
       "    )\n",
       "  )\n",
       "  (PersLay): PersistenceEmbedding(\n",
       "    (layer_1): Linear(in_features=500, out_features=1024, bias=True)\n",
       "    (relu): ReLU()\n",
       "    (layer_2): Linear(in_features=1024, out_features=128, bias=True)\n",
       "  )\n",
       ")"
      ]
     },
     "execution_count": 6,
     "metadata": {},
     "output_type": "execute_result"
    }
   ],
   "source": [
    "model.policy"
   ]
  },
  {
   "cell_type": "code",
   "execution_count": null,
   "id": "1f266fec",
   "metadata": {},
   "outputs": [],
   "source": []
  }
 ],
 "metadata": {
  "kernelspec": {
   "display_name": "Python 3 (ipykernel)",
   "language": "python",
   "name": "python3"
  },
  "language_info": {
   "codemirror_mode": {
    "name": "ipython",
    "version": 3
   },
   "file_extension": ".py",
   "mimetype": "text/x-python",
   "name": "python",
   "nbconvert_exporter": "python",
   "pygments_lexer": "ipython3",
   "version": "3.8.16"
  }
 },
 "nbformat": 4,
 "nbformat_minor": 5
}
