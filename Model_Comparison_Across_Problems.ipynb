{
 "cells": [
  {
   "cell_type": "code",
   "execution_count": 3,
   "id": "ed6569af",
   "metadata": {},
   "outputs": [],
   "source": [
    "import torch\n",
    "import pickle\n",
    "import numpy as np\n",
    "import pandas as pd\n",
    "import os\n",
    "from typing import Tuple\n",
    "import gymnasium as gym\n",
    "import combinatorial_problems\n",
    "from tqdm import tqdm\n",
    "import copy\n",
    "\n",
    "import seaborn as sns\n",
    "import matplotlib.pyplot as plt\n",
    "\n",
    "sns.set_style(\"whitegrid\")"
   ]
  },
  {
   "cell_type": "markdown",
   "id": "b766c8d4",
   "metadata": {},
   "source": [
    "# Model and Experiment Loading and Analysis"
   ]
  },
  {
   "cell_type": "code",
   "execution_count": 4,
   "id": "004cb18e",
   "metadata": {},
   "outputs": [],
   "source": [
    "def load_experiment(directory: str,\n",
    "                    experiment_name: str\n",
    "                    ) -> Tuple[torch.nn.Module, dict]:\n",
    "    # Create experiment files\n",
    "    exp_pt_file = os.path.join(directory, f'{experiment_name}.pt')\n",
    "    exp_pkl_file = os.path.join(directory, f'{experiment_name}.pkl')\n",
    "    \n",
    "    # Load torch models and experiment data\n",
    "    model = torch.load(exp_pt_file)\n",
    "    with open(exp_pkl_file, 'rb') as jar:\n",
    "        data = pickle.load(jar)\n",
    "    return model, data\n",
    "\n",
    "def evaluate_TSP(model: torch.nn.Module,\n",
    "                 graph_size: int,\n",
    "                 batch_size: int,\n",
    "                 eval_epochs: int):\n",
    "    problem_env = \"combinatorial_problems/TravelingSalesman-v0\"\n",
    "    env = gym.vector.make(problem_env,\n",
    "                num_nodes=graph_size,\n",
    "                num_envs=batch_size,\n",
    "                new_on_reset=True,\n",
    "                asynchronous=False)\n",
    "    rewards_over_batches = []\n",
    "    for epoch in tqdm(range(eval_epochs)):\n",
    "        state, info = env.reset()\n",
    "        start_idx = info[\"agent_start_idx\"]\n",
    "        end_idx = start_idx\n",
    "        done = False\n",
    "        batch_rewards = 0\n",
    "        while not done:\n",
    "            graph_nodes = np.stack(info[\"nodes\"])\n",
    "            graph = torch.FloatTensor(graph_nodes).reshape(batch_size, graph_size, 2).to('cuda')\n",
    "\n",
    "            \n",
    "\n",
    "            # Only use with older model:\n",
    "            #model.policy.reuse_graph_emb = False\n",
    "\n",
    "            with torch.no_grad():\n",
    "                # Compute node embeddings\n",
    "                tmp_emb = model.policy.encoder(graph).detach()\n",
    "                start_node = tmp_emb[np.arange(batch_size), start_idx, :].unsqueeze(1)\n",
    "                end_node = tmp_emb[np.arange(batch_size), end_idx, :].unsqueeze(1)\n",
    "                # Create problem context\n",
    "                ctxt = torch.cat([start_node, end_node], dim=-1)\n",
    "                # Generate Masks\n",
    "                mask_emb_graph = torch.zeros(batch_size, 1, graph_size).bool().to('cuda')  # Empty Mask!\n",
    "                masks = np.stack(info[\"mask\"])\n",
    "                mask_dec_graph = torch.tensor(masks).unsqueeze(1).to('cuda')\n",
    "                reuse_embeding = False\n",
    "                # Get prediction\n",
    "                action = model(graph=graph,\n",
    "                              ctxt=ctxt,\n",
    "                              mask_emb_graph=mask_emb_graph,\n",
    "                              mask_dec_graph=mask_dec_graph,\n",
    "                              reuse_embeding=reuse_embeding,\n",
    "                              explore=True,\n",
    "                              re_compute_embedding=False).numpy()\n",
    "            state, reward, terminated, truncated, info = env.step(action)\n",
    "            end_idx = action.squeeze()\n",
    "            batch_rewards += reward\n",
    "            done = terminated.all() or truncated.all()\n",
    "        rewards_over_batches.append(np.array(batch_rewards).mean())\n",
    "        model.policy.graph_emb_vect = None\n",
    "    eval_rewards = np.mean(rewards_over_batches)\n",
    "    return eval_rewards"
   ]
  },
  {
   "cell_type": "markdown",
   "id": "b7a6a1db",
   "metadata": {},
   "source": [
    "# Tested Experiment over 50 nodes, 60 epochs, and avg graph embedding"
   ]
  },
  {
   "cell_type": "code",
   "execution_count": 3,
   "id": "5d786c7c",
   "metadata": {},
   "outputs": [],
   "source": [
    "experiment_directory = \"./results/thesis_experiments/\"\n",
    "\n",
    "# Load model\n",
    "experiment_file = \"experiment_baseline_PAM_heads_8_layers_3_g-embedding_avg_lr_0.0001_envs_128000_epochs_60_batch-len_64_problem_TSP_nodes_50_dim_2\"\n",
    "experiment = load_experiment(experiment_directory, experiment_file)\n",
    "# Collect results\n",
    "experiment_results = experiment[1][\"rewards\"]\n",
    "# Prepare Model in Eval Mode\n",
    "experiment_model = experiment[0]\n",
    "experiment_model = experiment_model.eval()"
   ]
  },
  {
   "cell_type": "code",
   "execution_count": 4,
   "id": "27d0fe09",
   "metadata": {},
   "outputs": [
    {
     "data": {
      "text/plain": [
       "<AxesSubplot:>"
      ]
     },
     "execution_count": 4,
     "metadata": {},
     "output_type": "execute_result"
    },
    {
     "data": {
      "image/png": "[encoded data removed]",
      "text/plain": [
       "<Figure size 432x288 with 1 Axes>"
      ]
     },
     "metadata": {},
     "output_type": "display_data"
    }
   ],
   "source": [
    "experiment_results.plot()"
   ]
  },
  {
   "cell_type": "markdown",
   "id": "fde11e1f",
   "metadata": {},
   "source": [
    "### Explore Performance on Different Problems"
   ]
  },
  {
   "cell_type": "code",
   "execution_count": 6,
   "id": "67dbac79",
   "metadata": {},
   "outputs": [
    {
     "name": "stderr",
     "output_type": "stream",
     "text": [
      "100%|██████████| 8/8 [00:05<00:00,  1.57it/s]\n",
      "100%|██████████| 8/8 [00:15<00:00,  1.89s/it]\n",
      "100%|██████████| 8/8 [01:12<00:00,  9.02s/it]\n",
      "100%|██████████| 8/8 [05:38<00:00, 42.28s/it]\n"
     ]
    }
   ],
   "source": [
    "# Experiment Configuration\n",
    "nodes = [10, 20, 50, 100]\n",
    "batch_sizes = [1024, 1024, 1024, 1024]\n",
    "total_evaluations = 8_192\n",
    "\n",
    "# Data recording\n",
    "cross_problem_validation = {\n",
    "    node: None for node in nodes\n",
    "}\n",
    "\n",
    "for batch_size, node in zip(batch_sizes, nodes):\n",
    "    model = copy.deepcopy(experiment_model.cuda())\n",
    "    model.policy.batches = None\n",
    "    try:\n",
    "        avg_cost = evaluate_TSP(model=model, \n",
    "                                graph_size=node,\n",
    "                                batch_size=batch_size,\n",
    "                                eval_epochs=total_evaluations // batch_size)\n",
    "    except:\n",
    "        del model\n",
    "        torch.cuda.empty_cache()\n",
    "    cross_problem_validation[node] = avg_cost\n",
    "    del model\n",
    "    torch.cuda.empty_cache()"
   ]
  },
  {
   "cell_type": "code",
   "execution_count": 12,
   "id": "fbf54676",
   "metadata": {},
   "outputs": [
    {
     "data": {
      "text/html": [
       "<div>\n",
       "<style scoped>\n",
       "    .dataframe tbody tr th:only-of-type {\n",
       "        vertical-align: middle;\n",
       "    }\n",
       "\n",
       "    .dataframe tbody tr th {\n",
       "        vertical-align: top;\n",
       "    }\n",
       "\n",
       "    .dataframe thead th {\n",
       "        text-align: right;\n",
       "    }\n",
       "</style>\n",
       "<table border=\"1\" class=\"dataframe\">\n",
       "  <thead>\n",
       "    <tr style=\"text-align: right;\">\n",
       "      <th></th>\n",
       "      <th>Scores</th>\n",
       "    </tr>\n",
       "  </thead>\n",
       "  <tbody>\n",
       "    <tr>\n",
       "      <th>10</th>\n",
       "      <td>-2.923233</td>\n",
       "    </tr>\n",
       "    <tr>\n",
       "      <th>20</th>\n",
       "      <td>-4.269167</td>\n",
       "    </tr>\n",
       "    <tr>\n",
       "      <th>50</th>\n",
       "      <td>-7.494991</td>\n",
       "    </tr>\n",
       "    <tr>\n",
       "      <th>100</th>\n",
       "      <td>-12.629872</td>\n",
       "    </tr>\n",
       "  </tbody>\n",
       "</table>\n",
       "</div>"
      ],
      "text/plain": [
       "        Scores\n",
       "10   -2.923233\n",
       "20   -4.269167\n",
       "50   -7.494991\n",
       "100 -12.629872"
      ]
     },
     "execution_count": 12,
     "metadata": {},
     "output_type": "execute_result"
    }
   ],
   "source": [
    "cross_probem_results = pd.DataFrame(cross_problem_validation.values(), columns=['Scores'], index=cross_problem_validation.keys())\n",
    "cross_probem_results"
   ]
  },
  {
   "cell_type": "markdown",
   "id": "9b3b9cd5",
   "metadata": {},
   "source": [
    "### Show Example Solution"
   ]
  },
  {
   "cell_type": "code",
   "execution_count": 5,
   "id": "96ea5428",
   "metadata": {},
   "outputs": [
    {
     "data": {
      "image/png": "[encoded data removed]",
      "text/plain": [
       "<Figure size 288x288 with 1 Axes>"
      ]
     },
     "metadata": {},
     "output_type": "display_data"
    }
   ],
   "source": [
    "# Create and reset environment.\n",
    "graph_size = 20\n",
    "env = gym.make(\"combinatorial_problems/TravelingSalesman-v0\",\n",
    "                num_nodes=graph_size,\n",
    "                new_on_reset=True,)\n",
    "state, info = env.reset()\n",
    "# Distinguish among start and regular nodes.\n",
    "sample_problem = pd.DataFrame(info['nodes'], columns=['x', 'y'])\n",
    "sample_problem['type'] = 'node'\n",
    "sample_problem.at[state['agent'][0], 'type'] = 'start'\n",
    "graph=sample_problem\n",
    "plt.figure(figsize=(4, 4))\n",
    "sns.scatterplot(data=graph, x='x', y='y', hue='type', palette=['C3', 'C0'])\n",
    "plt.yticks(np.arange(0, 1.01, 1/10))\n",
    "plt.ylabel(\"Y Axis\")\n",
    "plt.xticks(np.arange(0, 1.01, 1/10))\n",
    "plt.xlabel('X Axis')\n",
    "plt.title(\"TSP Example\")\n",
    "\n",
    "plt.show()"
   ]
  },
  {
   "cell_type": "markdown",
   "id": "d5c65ac6",
   "metadata": {},
   "source": [
    "#### Solve Sample Problem"
   ]
  },
  {
   "cell_type": "code",
   "execution_count": 6,
   "id": "dc7df779",
   "metadata": {},
   "outputs": [
    {
     "name": "stdout",
     "output_type": "stream",
     "text": [
      "-3.998506203728642\n"
     ]
    }
   ],
   "source": [
    "model = copy.deepcopy(experiment_model)\n",
    "model.policy.batches = None\n",
    "\n",
    "start_idx = info[\"agent_start_idx\"]\n",
    "end_idx = start_idx\n",
    "done = False\n",
    "batch_size = 1\n",
    "batch_rewards = 0\n",
    "\n",
    "action_steps = [start_idx]\n",
    "while not done:\n",
    "    graph_nodes = np.stack(info[\"nodes\"])\n",
    "    graph = torch.FloatTensor(graph_nodes).reshape(1, graph_size, 2).to('cuda')\n",
    "    tmp_emb = model.policy.encoder(graph).detach()\n",
    "    start_node = tmp_emb[0, start_idx, :].reshape((1, 1, -1))\n",
    "    end_node = tmp_emb[0, end_idx, :].reshape((1, 1, -1))\n",
    "    ctxt = torch.cat([start_node, end_node], dim=-1)\n",
    "    mask_emb_graph = torch.zeros(1, 1, graph_size).bool().to('cuda')  # Empty Mask!\n",
    "    masks = np.stack(info[\"mask\"])\n",
    "    mask_dec_graph = torch.tensor(masks).reshape((1, 1, -1)).to('cuda')\n",
    "    reuse_embeding = False\n",
    "\n",
    "    # Only use with older model:\n",
    "    #model.policy.reuse_graph_emb = False\n",
    "    with torch.no_grad():\n",
    "        action = model(graph=graph,\n",
    "                      ctxt=ctxt,\n",
    "                      mask_emb_graph=mask_emb_graph,\n",
    "                      mask_dec_graph=mask_dec_graph,\n",
    "                      reuse_embeding=reuse_embeding,\n",
    "                      explore=True,\n",
    "                      re_compute_embedding=False).numpy()\n",
    "    state, reward, terminated, truncated, info = env.step(action)\n",
    "    action_steps.append(action.squeeze())\n",
    "    end_idx = action.squeeze()\n",
    "    batch_rewards += reward\n",
    "    done = terminated or truncated\n",
    "# Return back to start node\n",
    "del model\n",
    "torch.cuda.empty_cache()\n",
    "action_steps.append(0)\n",
    "print(batch_rewards)"
   ]
  },
  {
   "cell_type": "code",
   "execution_count": 7,
   "id": "c445f8e4",
   "metadata": {
    "scrolled": true
   },
   "outputs": [
    {
     "data": {
      "image/png": "[encoded data removed]",
      "text/plain": [
       "<Figure size 288x288 with 1 Axes>"
      ]
     },
     "metadata": {},
     "output_type": "display_data"
    }
   ],
   "source": [
    "plt.figure(figsize=(4, 4))\n",
    "\n",
    "path = sample_problem.iloc[action_steps]\n",
    "x = path['x'].values\n",
    "y = path['y'].values\n",
    "u = np.diff(x)\n",
    "v = np.diff(y)\n",
    "pos_x = x[:-1] + u/1\n",
    "pos_y = y[:-1] + v/1\n",
    "norm = np.sqrt(u**2+v**2)\n",
    "\n",
    "#plt.scatter(path[0], path[1], zorder=1)\n",
    "sns.scatterplot(data=path, x='x', y='y', hue='type', palette=['C3', 'C0'])\n",
    "plt.plot(path['x'], path['y'], zorder=2)\n",
    "plt.quiver(pos_x, pos_y, u/norm, v/norm, angles=\"xy\", zorder=0, pivot=\"tip\", color='tab:blue')\n",
    "#plt.title(f'Vehicle Routing Problem; Cost: {cost:.3f}')\n",
    "\n",
    "plt.yticks(np.arange(0, 1.01, 1/10))\n",
    "plt.ylabel(\"Y Axis\")\n",
    "plt.xticks(np.arange(0, 1.01, 1/10))\n",
    "plt.xlabel('X Axis')\n",
    "\n",
    "plt.title(f\"TSP Solution (R: {batch_rewards:.3f})\")\n",
    "\n",
    "plt.show()"
   ]
  },
  {
   "cell_type": "markdown",
   "id": "84be0b0f",
   "metadata": {},
   "source": [
    "# Tested Experiment over 20 nodes, 60 epochs, and avg graph embedding"
   ]
  },
  {
   "cell_type": "code",
   "execution_count": 5,
   "id": "2a6a41fa",
   "metadata": {},
   "outputs": [],
   "source": [
    "experiment_directory = \"./results/thesis_experiments/\"\n",
    "\n",
    "# Load model\n",
    "experiment_file = \"experiment_baseline_PAM_heads_8_layers_3_g-embedding_avg_lr_0.0001_envs_128000_epochs_60_batch-len_128_problem_TSP_nodes_20_dim_2\"\n",
    "experiment = load_experiment(experiment_directory, experiment_file)\n",
    "# Collect results\n",
    "experiment_results = experiment[1][\"rewards\"]\n",
    "# Prepare Model in Eval Mode\n",
    "experiment_model = experiment[0]\n",
    "experiment_model = experiment_model.eval()"
   ]
  },
  {
   "cell_type": "code",
   "execution_count": 7,
   "id": "6bea26dc",
   "metadata": {},
   "outputs": [
    {
     "data": {
      "text/html": [
       "<div>\n",
       "<style scoped>\n",
       "    .dataframe tbody tr th:only-of-type {\n",
       "        vertical-align: middle;\n",
       "    }\n",
       "\n",
       "    .dataframe tbody tr th {\n",
       "        vertical-align: top;\n",
       "    }\n",
       "\n",
       "    .dataframe thead th {\n",
       "        text-align: right;\n",
       "    }\n",
       "</style>\n",
       "<table border=\"1\" class=\"dataframe\">\n",
       "  <thead>\n",
       "    <tr style=\"text-align: right;\">\n",
       "      <th></th>\n",
       "      <th>Train</th>\n",
       "    </tr>\n",
       "  </thead>\n",
       "  <tbody>\n",
       "    <tr>\n",
       "      <th>0</th>\n",
       "      <td>-5.355088</td>\n",
       "    </tr>\n",
       "    <tr>\n",
       "      <th>1</th>\n",
       "      <td>-4.576107</td>\n",
       "    </tr>\n",
       "    <tr>\n",
       "      <th>2</th>\n",
       "      <td>-4.522385</td>\n",
       "    </tr>\n",
       "    <tr>\n",
       "      <th>3</th>\n",
       "      <td>-4.484495</td>\n",
       "    </tr>\n",
       "    <tr>\n",
       "      <th>4</th>\n",
       "      <td>-4.422144</td>\n",
       "    </tr>\n",
       "    <tr>\n",
       "      <th>5</th>\n",
       "      <td>-4.422941</td>\n",
       "    </tr>\n",
       "    <tr>\n",
       "      <th>6</th>\n",
       "      <td>-4.377374</td>\n",
       "    </tr>\n",
       "    <tr>\n",
       "      <th>7</th>\n",
       "      <td>-4.328619</td>\n",
       "    </tr>\n",
       "    <tr>\n",
       "      <th>8</th>\n",
       "      <td>-4.279268</td>\n",
       "    </tr>\n",
       "    <tr>\n",
       "      <th>9</th>\n",
       "      <td>-4.243369</td>\n",
       "    </tr>\n",
       "  </tbody>\n",
       "</table>\n",
       "</div>"
      ],
      "text/plain": [
       "      Train\n",
       "0 -5.355088\n",
       "1 -4.576107\n",
       "2 -4.522385\n",
       "3 -4.484495\n",
       "4 -4.422144\n",
       "5 -4.422941\n",
       "6 -4.377374\n",
       "7 -4.328619\n",
       "8 -4.279268\n",
       "9 -4.243369"
      ]
     },
     "execution_count": 7,
     "metadata": {},
     "output_type": "execute_result"
    }
   ],
   "source": [
    "experiment_results[:10]"
   ]
  },
  {
   "cell_type": "markdown",
   "id": "8ff2ec16",
   "metadata": {},
   "source": [
    "### Explore Performance on Different Problems"
   ]
  },
  {
   "cell_type": "code",
   "execution_count": 6,
   "id": "ba4e7b1a",
   "metadata": {},
   "outputs": [
    {
     "name": "stderr",
     "output_type": "stream",
     "text": [
      "100%|██████████| 8/8 [00:05<00:00,  1.57it/s]\n",
      "100%|██████████| 8/8 [00:15<00:00,  1.89s/it]\n",
      "100%|██████████| 8/8 [01:12<00:00,  9.02s/it]\n",
      "100%|██████████| 8/8 [05:38<00:00, 42.28s/it]\n"
     ]
    }
   ],
   "source": [
    "# Experiment Configuration\n",
    "nodes = [10, 20, 50, 100]\n",
    "batch_sizes = [1024, 1024, 1024, 1024]\n",
    "total_evaluations = 8_192\n",
    "\n",
    "# Data recording\n",
    "cross_problem_validation = {\n",
    "    node: None for node in nodes\n",
    "}\n",
    "\n",
    "for batch_size, node in zip(batch_sizes, nodes):\n",
    "    model = copy.deepcopy(experiment_model.cuda())\n",
    "    model.policy.batches = None\n",
    "    try:\n",
    "        avg_cost = evaluate_TSP(model=model, \n",
    "                                graph_size=node,\n",
    "                                batch_size=batch_size,\n",
    "                                eval_epochs=total_evaluations // batch_size)\n",
    "    except:\n",
    "        del model\n",
    "        torch.cuda.empty_cache()\n",
    "    cross_problem_validation[node] = avg_cost\n",
    "    del model\n",
    "    torch.cuda.empty_cache()"
   ]
  },
  {
   "cell_type": "code",
   "execution_count": 12,
   "id": "d3cd61f9",
   "metadata": {},
   "outputs": [
    {
     "data": {
      "text/html": [
       "<div>\n",
       "<style scoped>\n",
       "    .dataframe tbody tr th:only-of-type {\n",
       "        vertical-align: middle;\n",
       "    }\n",
       "\n",
       "    .dataframe tbody tr th {\n",
       "        vertical-align: top;\n",
       "    }\n",
       "\n",
       "    .dataframe thead th {\n",
       "        text-align: right;\n",
       "    }\n",
       "</style>\n",
       "<table border=\"1\" class=\"dataframe\">\n",
       "  <thead>\n",
       "    <tr style=\"text-align: right;\">\n",
       "      <th></th>\n",
       "      <th>Scores</th>\n",
       "    </tr>\n",
       "  </thead>\n",
       "  <tbody>\n",
       "    <tr>\n",
       "      <th>10</th>\n",
       "      <td>-2.923233</td>\n",
       "    </tr>\n",
       "    <tr>\n",
       "      <th>20</th>\n",
       "      <td>-4.269167</td>\n",
       "    </tr>\n",
       "    <tr>\n",
       "      <th>50</th>\n",
       "      <td>-7.494991</td>\n",
       "    </tr>\n",
       "    <tr>\n",
       "      <th>100</th>\n",
       "      <td>-12.629872</td>\n",
       "    </tr>\n",
       "  </tbody>\n",
       "</table>\n",
       "</div>"
      ],
      "text/plain": [
       "        Scores\n",
       "10   -2.923233\n",
       "20   -4.269167\n",
       "50   -7.494991\n",
       "100 -12.629872"
      ]
     },
     "execution_count": 12,
     "metadata": {},
     "output_type": "execute_result"
    }
   ],
   "source": [
    "cross_probem_results = pd.DataFrame(cross_problem_validation.values(), columns=['Scores'], index=cross_problem_validation.keys())\n",
    "cross_probem_results"
   ]
  },
  {
   "cell_type": "markdown",
   "id": "a98929b2",
   "metadata": {},
   "source": [
    "### Show Example Solution"
   ]
  },
  {
   "cell_type": "code",
   "execution_count": 15,
   "id": "ef5150ae",
   "metadata": {},
   "outputs": [
    {
     "data": {
      "image/png": "[encoded data removed]",
      "text/plain": [
       "<Figure size 288x288 with 1 Axes>"
      ]
     },
     "metadata": {},
     "output_type": "display_data"
    }
   ],
   "source": [
    "# Create and reset environment.\n",
    "graph_size = 20\n",
    "env = gym.make(\"combinatorial_problems/TravelingSalesman-v0\",\n",
    "                num_nodes=graph_size,\n",
    "                new_on_reset=True,)\n",
    "state, info = env.reset()\n",
    "# Distinguish among start and regular nodes.\n",
    "sample_problem = pd.DataFrame(info['nodes'], columns=['x', 'y'])\n",
    "sample_problem['type'] = 'node'\n",
    "sample_problem.at[state['agent'][0], 'type'] = 'start'\n",
    "graph=sample_problem\n",
    "plt.figure(figsize=(4, 4))\n",
    "sns.scatterplot(data=graph, x='x', y='y', hue='type', palette=['C3', 'C0'])\n",
    "plt.yticks(np.arange(0, 1.01, 1/10))\n",
    "plt.ylabel(\"Y Axis\")\n",
    "plt.xticks(np.arange(0, 1.01, 1/10))\n",
    "plt.xlabel('X Axis')\n",
    "plt.title(\"TSP Example\")\n",
    "\n",
    "plt.show()"
   ]
  },
  {
   "cell_type": "markdown",
   "id": "862c752f",
   "metadata": {},
   "source": [
    "#### Solve Sample Problem"
   ]
  },
  {
   "cell_type": "code",
   "execution_count": 16,
   "id": "e6e3658e",
   "metadata": {},
   "outputs": [
    {
     "name": "stdout",
     "output_type": "stream",
     "text": [
      "-3.5129397706450036\n"
     ]
    }
   ],
   "source": [
    "model = copy.deepcopy(experiment_model)\n",
    "model.policy.batches = None\n",
    "\n",
    "start_idx = info[\"agent_start_idx\"]\n",
    "end_idx = start_idx\n",
    "done = False\n",
    "batch_size = 1\n",
    "batch_rewards = 0\n",
    "\n",
    "action_steps = [start_idx]\n",
    "while not done:\n",
    "    graph_nodes = np.stack(info[\"nodes\"])\n",
    "    graph = torch.FloatTensor(graph_nodes).reshape(1, graph_size, 2).to('cuda')\n",
    "    tmp_emb = model.policy.encoder(graph).detach()\n",
    "    start_node = tmp_emb[0, start_idx, :].reshape((1, 1, -1))\n",
    "    end_node = tmp_emb[0, end_idx, :].reshape((1, 1, -1))\n",
    "    ctxt = torch.cat([start_node, end_node], dim=-1)\n",
    "    mask_emb_graph = torch.zeros(1, 1, graph_size).bool().to('cuda')  # Empty Mask!\n",
    "    masks = np.stack(info[\"mask\"])\n",
    "    mask_dec_graph = torch.tensor(masks).reshape((1, 1, -1)).to('cuda')\n",
    "    reuse_embeding = False\n",
    "\n",
    "    # Only use with older model:\n",
    "    #model.policy.reuse_graph_emb = False\n",
    "    with torch.no_grad():\n",
    "        action = model(graph=graph,\n",
    "                      ctxt=ctxt,\n",
    "                      mask_emb_graph=mask_emb_graph,\n",
    "                      mask_dec_graph=mask_dec_graph,\n",
    "                      reuse_embeding=reuse_embeding,\n",
    "                      explore=True,\n",
    "                      re_compute_embedding=False).numpy()\n",
    "    state, reward, terminated, truncated, info = env.step(action)\n",
    "    action_steps.append(action.squeeze())\n",
    "    end_idx = action.squeeze()\n",
    "    batch_rewards += reward\n",
    "    done = terminated or truncated\n",
    "# Return back to start node\n",
    "del model\n",
    "torch.cuda.empty_cache()\n",
    "action_steps.append(0)\n",
    "print(batch_rewards)"
   ]
  },
  {
   "cell_type": "code",
   "execution_count": 17,
   "id": "01517e0b",
   "metadata": {
    "scrolled": true
   },
   "outputs": [
    {
     "data": {
      "image/png": "[encoded data removed]",
      "text/plain": [
       "<Figure size 288x288 with 1 Axes>"
      ]
     },
     "metadata": {},
     "output_type": "display_data"
    }
   ],
   "source": [
    "plt.figure(figsize=(4, 4))\n",
    "\n",
    "path = sample_problem.iloc[action_steps]\n",
    "x = path['x'].values\n",
    "y = path['y'].values\n",
    "u = np.diff(x)\n",
    "v = np.diff(y)\n",
    "pos_x = x[:-1] + u/1\n",
    "pos_y = y[:-1] + v/1\n",
    "norm = np.sqrt(u**2+v**2)\n",
    "\n",
    "#plt.scatter(path[0], path[1], zorder=1)\n",
    "sns.scatterplot(data=path, x='x', y='y', hue='type', palette=['C3', 'C0'])\n",
    "plt.plot(path['x'], path['y'], zorder=2)\n",
    "plt.quiver(pos_x, pos_y, u/norm, v/norm, angles=\"xy\", zorder=0, pivot=\"tip\", color='tab:blue')\n",
    "#plt.title(f'Vehicle Routing Problem; Cost: {cost:.3f}')\n",
    "\n",
    "plt.yticks(np.arange(0, 1.01, 1/10))\n",
    "plt.ylabel(\"Y Axis\")\n",
    "plt.xticks(np.arange(0, 1.01, 1/10))\n",
    "plt.xlabel('X Axis')\n",
    "\n",
    "plt.title(f\"TSP Solution (R: {batch_rewards:.3f})\")\n",
    "\n",
    "plt.show()"
   ]
  },
  {
   "cell_type": "markdown",
   "id": "dd9ed2b4",
   "metadata": {},
   "source": [
    "# Tested Experiment over 50 nodes, 60 epochs, and Persistence graph embedding"
   ]
  },
  {
   "cell_type": "code",
   "execution_count": 23,
   "id": "c10cefc4",
   "metadata": {},
   "outputs": [],
   "source": [
    "experiment_directory = \"./results/thesis_experiments/\"\n",
    "\n",
    "# Load model\n",
    "experiment_file = \"experiment_persistence_PAM_heads_8_layers_3_g-embedding_p_lr_0.0001_envs_128000_epochs_30_batch-len_64_problem_TSP_nodes_50_dim_2\"\n",
    "experiment = load_experiment(experiment_directory, experiment_file)\n",
    "# Collect results\n",
    "experiment_results = experiment[1][\"rewards\"]\n",
    "# Prepare Model in Eval Mode\n",
    "experiment_model = experiment[0]\n",
    "experiment_model = experiment_model.eval()"
   ]
  },
  {
   "cell_type": "code",
   "execution_count": 24,
   "id": "7f25e6d4",
   "metadata": {},
   "outputs": [
    {
     "data": {
      "text/plain": [
       "<AxesSubplot:>"
      ]
     },
     "execution_count": 24,
     "metadata": {},
     "output_type": "execute_result"
    },
    {
     "data": {
      "image/png": "[encoded data removed]",
      "text/plain": [
       "<Figure size 432x288 with 1 Axes>"
      ]
     },
     "metadata": {},
     "output_type": "display_data"
    }
   ],
   "source": [
    "experiment_results.plot()"
   ]
  },
  {
   "cell_type": "markdown",
   "id": "1c26a0b0",
   "metadata": {},
   "source": [
    "### Explore Performance on Different Problems"
   ]
  },
  {
   "cell_type": "code",
   "execution_count": 25,
   "id": "a38de3a4",
   "metadata": {},
   "outputs": [
    {
     "name": "stderr",
     "output_type": "stream",
     "text": [
      "100%|██████████| 8/8 [00:08<00:00,  1.12s/it]\n",
      "100%|██████████| 8/8 [00:20<00:00,  2.61s/it]\n",
      "100%|██████████| 8/8 [02:17<00:00, 17.14s/it]\n",
      " 12%|█▎        | 1/8 [06:02<42:19, 362.82s/it]\n"
     ]
    },
    {
     "ename": "NameError",
     "evalue": "name 'model' is not defined",
     "output_type": "error",
     "traceback": [
      "\u001b[0;31m---------------------------------------------------------------------------\u001b[0m",
      "\u001b[0;31mNameError\u001b[0m                                 Traceback (most recent call last)",
      "\u001b[0;32m<ipython-input-25-92a4f0ef1174>\u001b[0m in \u001b[0;36m<module>\u001b[0;34m\u001b[0m\n\u001b[1;32m     21\u001b[0m         \u001b[0mtorch\u001b[0m\u001b[0;34m.\u001b[0m\u001b[0mcuda\u001b[0m\u001b[0;34m.\u001b[0m\u001b[0mempty_cache\u001b[0m\u001b[0;34m(\u001b[0m\u001b[0;34m)\u001b[0m\u001b[0;34m\u001b[0m\u001b[0;34m\u001b[0m\u001b[0m\n\u001b[1;32m     22\u001b[0m     \u001b[0mcross_problem_validation\u001b[0m\u001b[0;34m[\u001b[0m\u001b[0mnode\u001b[0m\u001b[0;34m]\u001b[0m \u001b[0;34m=\u001b[0m \u001b[0mavg_cost\u001b[0m\u001b[0;34m\u001b[0m\u001b[0;34m\u001b[0m\u001b[0m\n\u001b[0;32m---> 23\u001b[0;31m     \u001b[0;32mdel\u001b[0m \u001b[0mmodel\u001b[0m\u001b[0;34m\u001b[0m\u001b[0;34m\u001b[0m\u001b[0m\n\u001b[0m\u001b[1;32m     24\u001b[0m     \u001b[0mtorch\u001b[0m\u001b[0;34m.\u001b[0m\u001b[0mcuda\u001b[0m\u001b[0;34m.\u001b[0m\u001b[0mempty_cache\u001b[0m\u001b[0;34m(\u001b[0m\u001b[0;34m)\u001b[0m\u001b[0;34m\u001b[0m\u001b[0;34m\u001b[0m\u001b[0m\n",
      "\u001b[0;31mNameError\u001b[0m: name 'model' is not defined"
     ]
    }
   ],
   "source": [
    "# Experiment Configuration\n",
    "nodes = [10, 20, 50, 100]\n",
    "batch_sizes = [1024, 1024, 1024, 1024]\n",
    "total_evaluations = 8_192\n",
    "\n",
    "# Data recording\n",
    "cross_problem_validation = {\n",
    "    node: None for node in nodes\n",
    "}\n",
    "\n",
    "for batch_size, node in zip(batch_sizes, nodes):\n",
    "    model = copy.deepcopy(experiment_model.cuda())\n",
    "    model.policy.batches = None\n",
    "    try:\n",
    "        avg_cost = evaluate_TSP(model=model, \n",
    "                                graph_size=node,\n",
    "                                batch_size=batch_size,\n",
    "                                eval_epochs=total_evaluations // batch_size)\n",
    "    except:\n",
    "        del model\n",
    "        torch.cuda.empty_cache()\n",
    "    cross_problem_validation[node] = avg_cost\n",
    "    del model\n",
    "    torch.cuda.empty_cache()"
   ]
  },
  {
   "cell_type": "code",
   "execution_count": 26,
   "id": "3834731a",
   "metadata": {},
   "outputs": [
    {
     "data": {
      "text/html": [
       "<div>\n",
       "<style scoped>\n",
       "    .dataframe tbody tr th:only-of-type {\n",
       "        vertical-align: middle;\n",
       "    }\n",
       "\n",
       "    .dataframe tbody tr th {\n",
       "        vertical-align: top;\n",
       "    }\n",
       "\n",
       "    .dataframe thead th {\n",
       "        text-align: right;\n",
       "    }\n",
       "</style>\n",
       "<table border=\"1\" class=\"dataframe\">\n",
       "  <thead>\n",
       "    <tr style=\"text-align: right;\">\n",
       "      <th></th>\n",
       "      <th>Scores</th>\n",
       "    </tr>\n",
       "  </thead>\n",
       "  <tbody>\n",
       "    <tr>\n",
       "      <th>10</th>\n",
       "      <td>-2.961898</td>\n",
       "    </tr>\n",
       "    <tr>\n",
       "      <th>20</th>\n",
       "      <td>-4.364180</td>\n",
       "    </tr>\n",
       "    <tr>\n",
       "      <th>50</th>\n",
       "      <td>-7.561092</td>\n",
       "    </tr>\n",
       "    <tr>\n",
       "      <th>100</th>\n",
       "      <td>-7.561092</td>\n",
       "    </tr>\n",
       "  </tbody>\n",
       "</table>\n",
       "</div>"
      ],
      "text/plain": [
       "       Scores\n",
       "10  -2.961898\n",
       "20  -4.364180\n",
       "50  -7.561092\n",
       "100 -7.561092"
      ]
     },
     "execution_count": 26,
     "metadata": {},
     "output_type": "execute_result"
    }
   ],
   "source": [
    "cross_probem_results = pd.DataFrame(cross_problem_validation.values(), columns=['Scores'], index=cross_problem_validation.keys())\n",
    "cross_probem_results"
   ]
  },
  {
   "cell_type": "markdown",
   "id": "6e7832e5",
   "metadata": {},
   "source": [
    "### Show Example Solution"
   ]
  },
  {
   "cell_type": "code",
   "execution_count": 27,
   "id": "825b1ba9",
   "metadata": {},
   "outputs": [
    {
     "data": {
      "image/png": "[encoded data removed]",
      "text/plain": [
       "<Figure size 288x288 with 1 Axes>"
      ]
     },
     "metadata": {},
     "output_type": "display_data"
    }
   ],
   "source": [
    "# Create and reset environment.\n",
    "graph_size = 20\n",
    "env = gym.make(\"combinatorial_problems/TravelingSalesman-v0\",\n",
    "                num_nodes=graph_size,\n",
    "                new_on_reset=True,)\n",
    "state, info = env.reset()\n",
    "# Distinguish among start and regular nodes.\n",
    "sample_problem = pd.DataFrame(info['nodes'], columns=['x', 'y'])\n",
    "sample_problem['type'] = 'node'\n",
    "sample_problem.at[state['agent'][0], 'type'] = 'start'\n",
    "graph=sample_problem\n",
    "plt.figure(figsize=(4, 4))\n",
    "sns.scatterplot(data=graph, x='x', y='y', hue='type', palette=['C3', 'C0'])\n",
    "plt.yticks(np.arange(0, 1.01, 1/10))\n",
    "plt.ylabel(\"Y Axis\")\n",
    "plt.xticks(np.arange(0, 1.01, 1/10))\n",
    "plt.xlabel('X Axis')\n",
    "plt.title(\"TSP Example\")\n",
    "\n",
    "plt.show()"
   ]
  },
  {
   "cell_type": "markdown",
   "id": "7f5bf6a0",
   "metadata": {},
   "source": [
    "#### Solve Sample Problem"
   ]
  },
  {
   "cell_type": "code",
   "execution_count": 28,
   "id": "0da7b65c",
   "metadata": {},
   "outputs": [
    {
     "name": "stdout",
     "output_type": "stream",
     "text": [
      "-4.4368481472427765\n"
     ]
    }
   ],
   "source": [
    "model = copy.deepcopy(experiment_model)\n",
    "model.policy.batches = None\n",
    "\n",
    "start_idx = info[\"agent_start_idx\"]\n",
    "end_idx = start_idx\n",
    "done = False\n",
    "batch_size = 1\n",
    "batch_rewards = 0\n",
    "\n",
    "action_steps = [start_idx]\n",
    "while not done:\n",
    "    graph_nodes = np.stack(info[\"nodes\"])\n",
    "    graph = torch.FloatTensor(graph_nodes).reshape(1, graph_size, 2).to('cuda')\n",
    "    tmp_emb = model.policy.encoder(graph).detach()\n",
    "    start_node = tmp_emb[0, start_idx, :].reshape((1, 1, -1))\n",
    "    end_node = tmp_emb[0, end_idx, :].reshape((1, 1, -1))\n",
    "    ctxt = torch.cat([start_node, end_node], dim=-1)\n",
    "    mask_emb_graph = torch.zeros(1, 1, graph_size).bool().to('cuda')  # Empty Mask!\n",
    "    masks = np.stack(info[\"mask\"])\n",
    "    mask_dec_graph = torch.tensor(masks).reshape((1, 1, -1)).to('cuda')\n",
    "    reuse_embeding = False\n",
    "\n",
    "    # Only use with older model:\n",
    "    #model.policy.reuse_graph_emb = False\n",
    "    with torch.no_grad():\n",
    "        action = model(graph=graph,\n",
    "                      ctxt=ctxt,\n",
    "                      mask_emb_graph=mask_emb_graph,\n",
    "                      mask_dec_graph=mask_dec_graph,\n",
    "                      reuse_embeding=reuse_embeding,\n",
    "                      explore=True,\n",
    "                      re_compute_embedding=False).numpy()\n",
    "    state, reward, terminated, truncated, info = env.step(action)\n",
    "    action_steps.append(action.squeeze())\n",
    "    end_idx = action.squeeze()\n",
    "    batch_rewards += reward\n",
    "    done = terminated or truncated\n",
    "# Return back to start node\n",
    "del model\n",
    "torch.cuda.empty_cache()\n",
    "action_steps.append(0)\n",
    "print(batch_rewards)"
   ]
  },
  {
   "cell_type": "code",
   "execution_count": 29,
   "id": "79e6b50e",
   "metadata": {
    "scrolled": false
   },
   "outputs": [
    {
     "data": {
      "image/png": "[encoded data removed]",
      "text/plain": [
       "<Figure size 288x288 with 1 Axes>"
      ]
     },
     "metadata": {},
     "output_type": "display_data"
    }
   ],
   "source": [
    "plt.figure(figsize=(4, 4))\n",
    "\n",
    "path = sample_problem.iloc[action_steps]\n",
    "x = path['x'].values\n",
    "y = path['y'].values\n",
    "u = np.diff(x)\n",
    "v = np.diff(y)\n",
    "pos_x = x[:-1] + u/1\n",
    "pos_y = y[:-1] + v/1\n",
    "norm = np.sqrt(u**2+v**2)\n",
    "\n",
    "#plt.scatter(path[0], path[1], zorder=1)\n",
    "sns.scatterplot(data=path, x='x', y='y', hue='type', palette=['C3', 'C0'])\n",
    "plt.plot(path['x'], path['y'], zorder=2)\n",
    "plt.quiver(pos_x, pos_y, u/norm, v/norm, angles=\"xy\", zorder=0, pivot=\"tip\", color='tab:blue')\n",
    "#plt.title(f'Vehicle Routing Problem; Cost: {cost:.3f}')\n",
    "\n",
    "plt.yticks(np.arange(0, 1.01, 1/10))\n",
    "plt.ylabel(\"Y Axis\")\n",
    "plt.xticks(np.arange(0, 1.01, 1/10))\n",
    "plt.xlabel('X Axis')\n",
    "\n",
    "plt.title(f\"TSP Solution (R: {batch_rewards:.3f})\")\n",
    "\n",
    "plt.show()"
   ]
  },
  {
   "cell_type": "code",
   "execution_count": null,
   "id": "349ead0e",
   "metadata": {},
   "outputs": [],
   "source": []
  }
 ],
 "metadata": {
  "kernelspec": {
   "display_name": "Python 3 (ipykernel)",
   "language": "python",
   "name": "python3"
  },
  "language_info": {
   "codemirror_mode": {
    "name": "ipython",
    "version": 3
   },
   "file_extension": ".py",
   "mimetype": "text/x-python",
   "name": "python",
   "nbconvert_exporter": "python",
   "pygments_lexer": "ipython3",
   "version": "3.8.16"
  }
 },
 "nbformat": 4,
 "nbformat_minor": 5
}
