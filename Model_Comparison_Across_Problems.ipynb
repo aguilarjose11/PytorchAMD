{
 "cells": [
  {
   "cell_type": "code",
   "execution_count": 6,
   "id": "ed6569af",
   "metadata": {},
   "outputs": [],
   "source": [
    "import torch\n",
    "import pickle\n",
    "import numpy as np\n",
    "import pandas as pd\n",
    "import os\n",
    "from typing import Tuple\n",
    "import gymnasium as gym\n",
    "import combinatorial_problems\n",
    "from tqdm import tqdm"
   ]
  },
  {
   "cell_type": "code",
   "execution_count": 2,
   "id": "004cb18e",
   "metadata": {},
   "outputs": [],
   "source": [
    "def load_experiment(directory: str,\n",
    "                    experiment_name: str\n",
    "                    ) -> Tuple[torch.nn.Module, dict]:\n",
    "    # Create experiment files\n",
    "    exp_pt_file = os.path.join(directory, f'{experiment_name}.pt')\n",
    "    exp_pkl_file = os.path.join(directory, f'{experiment_name}.pkl')\n",
    "    \n",
    "    # Load torch models and experiment data\n",
    "    model = torch.load(exp_pt_file)\n",
    "    with open(exp_pkl_file, 'rb') as jar:\n",
    "        data = pickle.load(jar)\n",
    "    return model, data"
   ]
  },
  {
   "cell_type": "markdown",
   "id": "6267455c",
   "metadata": {},
   "source": [
    "## Load Experiment Model and Data"
   ]
  },
  {
   "cell_type": "code",
   "execution_count": 3,
   "id": "1f09c29d",
   "metadata": {},
   "outputs": [],
   "source": [
    "experiment_directory = \"./results/\"\n",
    "exp_50_baseline_file = 'experiment_baseline_PAM_heads_8_layers_3_g-embedding_avg_lr_0.0001_epochs_6250_batch-len_128_problem_TSP_nodes_50_dim_2'\n",
    "exp_50_persist_file = 'experiment_0_PAM_heads_8_layers_3_g-embedding_p_lr_0.0001_epochs_500_batch-len_64_problem_TSP_nodes_50_dim_2'\n",
    "exp_20_baseline_file = 'experiment_1_PAM_heads_8_layers_3_g-embedding_avg_lr_0.0001_envs_256000_epochs_75_batch-len_512_problem_TSP_nodes_20_dim_2'"
   ]
  },
  {
   "cell_type": "code",
   "execution_count": 4,
   "id": "9168587a",
   "metadata": {},
   "outputs": [],
   "source": [
    "exp_50_baseline = load_experiment(experiment_directory, exp_50_baseline_file)\n",
    "exp_50_persist = load_experiment(experiment_directory, exp_50_persist_file)\n",
    "exp_20_baseline = load_experiment(experiment_directory, exp_20_baseline_file)"
   ]
  },
  {
   "cell_type": "markdown",
   "id": "a9f67c85",
   "metadata": {},
   "source": [
    "# Explore Performance on Different Problems"
   ]
  },
  {
   "cell_type": "code",
   "execution_count": 5,
   "id": "27347ca5",
   "metadata": {},
   "outputs": [],
   "source": [
    "baseline_model = exp_50_baseline[0]\n",
    "baseline_model=baseline_model.eval()\n",
    "persistence_model = exp_50_persist[0]\n",
    "persistence_model=persistence_model.eval()\n",
    "baseline_model_20 = exp_20_baseline[0]\n",
    "baseline_model_20 = baseline_model_20.eval()"
   ]
  },
  {
   "cell_type": "code",
   "execution_count": 7,
   "id": "f7865669",
   "metadata": {},
   "outputs": [],
   "source": [
    "def evaluate_TSP(model: torch.nn.Module,\n",
    "                 graph_size: int,\n",
    "                 batch_size: int,\n",
    "                 eval_epochs: int):\n",
    "    problem_env = \"combinatorial_problems/TravelingSalesman-v0\"\n",
    "    env = gym.vector.make(problem_env,\n",
    "                num_nodes=graph_size,\n",
    "                num_envs=batch_size,\n",
    "                new_on_reset=True,\n",
    "                asynchronous=False)\n",
    "    rewards_over_batches = []\n",
    "    for epoch in tqdm(range(eval_epochs)):\n",
    "        state, info = env.reset()\n",
    "        start_idx = info[\"agent_start_idx\"]\n",
    "        end_idx = start_idx\n",
    "        done = False\n",
    "        batch_rewards = 0\n",
    "        while not done:\n",
    "            graph_nodes = np.stack(info[\"nodes\"])\n",
    "            graph = torch.FloatTensor(graph_nodes).reshape(batch_size, graph_size, 2).to('cuda')\n",
    "\n",
    "            tmp_emb = model.policy.encoder(graph).detach()\n",
    "            start_node = tmp_emb[np.arange(batch_size), start_idx, :].unsqueeze(1)\n",
    "            end_node = tmp_emb[np.arange(batch_size), end_idx, :].unsqueeze(1)\n",
    "            ctxt = torch.cat([start_node, end_node], dim=-1)\n",
    "            mask_emb_graph = torch.zeros(batch_size, 1, graph_size).bool().to('cuda')  # Empty Mask!\n",
    "            masks = np.stack(info[\"mask\"])\n",
    "            mask_dec_graph = torch.tensor(masks).unsqueeze(1).to('cuda')\n",
    "            reuse_embeding = False\n",
    "\n",
    "            # Only use with older model:\n",
    "            #model.policy.reuse_graph_emb = False\n",
    "\n",
    "            with torch.no_grad():\n",
    "                action = model(graph=graph,\n",
    "                              ctxt=ctxt,\n",
    "                              mask_emb_graph=mask_emb_graph,\n",
    "                              mask_dec_graph=mask_dec_graph,\n",
    "                              reuse_embeding=reuse_embeding,\n",
    "                              explore=True,\n",
    "                              re_compute_embedding=False).numpy()\n",
    "            state, reward, terminated, truncated, info = env.step(action)\n",
    "            end_idx = action.squeeze()\n",
    "            batch_rewards += reward\n",
    "            done = terminated.all() or truncated.all()\n",
    "        rewards_over_batches.append(np.array(batch_rewards).mean())\n",
    "        model.policy.graph_emb_vect = None\n",
    "    eval_rewards = np.mean(rewards_over_batches)\n",
    "    return eval_rewards"
   ]
  },
  {
   "cell_type": "code",
   "execution_count": 9,
   "id": "67dbac79",
   "metadata": {},
   "outputs": [
    {
     "name": "stderr",
     "output_type": "stream",
     "text": [
      "100%|██████████| 10/10 [00:04<00:00,  2.44it/s]\n"
     ]
    },
    {
     "data": {
      "text/plain": [
       "-8.4653465326852"
      ]
     },
     "execution_count": 9,
     "metadata": {},
     "output_type": "execute_result"
    }
   ],
   "source": [
    "# Baseline model trained on 20 nodes\n",
    "model = baseline_model_20\n",
    "model.policy.batches = None\n",
    "evaluate_TSP(model=model, \n",
    "             graph_size=50,\n",
    "             batch_size=32,\n",
    "             eval_epochs=10)"
   ]
  },
  {
   "cell_type": "code",
   "execution_count": null,
   "id": "95a630a2",
   "metadata": {},
   "outputs": [],
   "source": []
  }
 ],
 "metadata": {
  "kernelspec": {
   "display_name": "Python 3 (ipykernel)",
   "language": "python",
   "name": "python3"
  },
  "language_info": {
   "codemirror_mode": {
    "name": "ipython",
    "version": 3
   },
   "file_extension": ".py",
   "mimetype": "text/x-python",
   "name": "python",
   "nbconvert_exporter": "python",
   "pygments_lexer": "ipython3",
   "version": "3.8.16"
  }
 },
 "nbformat": 4,
 "nbformat_minor": 5
}
